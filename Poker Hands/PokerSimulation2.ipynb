{
 "cells": [
  {
   "cell_type": "markdown",
   "metadata": {},
   "source": [
    "# Analysis of 5-Card Poker Hands\n",
    "## Author: Gregory Betman"
   ]
  },
  {
   "cell_type": "code",
   "execution_count": 2,
   "metadata": {},
   "outputs": [],
   "source": [
    "import numpy as np\n",
    "import pandas as pd\n",
    "import time"
   ]
  },
  {
   "cell_type": "code",
   "execution_count": 3,
   "metadata": {},
   "outputs": [],
   "source": [
    "values = np.array(\\\n",
    "[\"2\", \"3\", \"4\", \"5\", \"6\", \"7\", \"8\", \"9\", \"10\", \"Jack\", \"Queen\", \"King\", \"Ace\"])\n",
    "\n",
    "suits = np.array([\"Spades\", \"Clubs\", \"Hearts\", \"Diamonds\"])\n",
    "\n",
    "results = np.array(\\\n",
    "[\"High Card\", \"Pair\", \"Two Pair\", \"Three of a Kind\", \"Straight\",\\\n",
    " \"Flush\", \"Full House\", \"Four of a Kind\", \"Straight Flush\", \"Royal Flush\"])\n",
    "\n",
    "results_prob = np.array(\\\n",
    "[50.1177, 42.2569, 4.7539, 2.1128, .3925, .1965, .1441, .0240, .00139, .000154])"
   ]
  },
  {
   "cell_type": "code",
   "execution_count": 4,
   "metadata": {},
   "outputs": [],
   "source": [
    "# Builds a standard 52 card deck, each card with indices (i,j) where i represents value,\n",
    "# and j represents suit\n",
    "\n",
    "def build_deck():\n",
    "    deck = np.empty(104).reshape(52,2)\n",
    "    for j in range(4):\n",
    "        for i in range(13):\n",
    "            deck[i+13*j,:] = [i+2, j+1]\n",
    "    return deck"
   ]
  },
  {
   "cell_type": "code",
   "execution_count": 5,
   "metadata": {},
   "outputs": [],
   "source": [
    "# Prints hand in an interpretable format\n",
    "\n",
    "def print_hand(hand):\n",
    "    for i in range(hand.shape[0]):\n",
    "        print(values[int(hand[i,0]-2)] + \" of \" + suits[int(hand[i,1]-1)])"
   ]
  },
  {
   "cell_type": "code",
   "execution_count": 6,
   "metadata": {},
   "outputs": [
    {
     "name": "stdout",
     "output_type": "stream",
     "text": [
      "2 of Spades\n",
      "3 of Spades\n",
      "4 of Spades\n",
      "5 of Spades\n",
      "6 of Spades\n",
      "7 of Spades\n",
      "8 of Spades\n",
      "9 of Spades\n",
      "10 of Spades\n",
      "Jack of Spades\n",
      "Queen of Spades\n",
      "King of Spades\n",
      "Ace of Spades\n",
      "2 of Clubs\n",
      "3 of Clubs\n",
      "4 of Clubs\n",
      "5 of Clubs\n",
      "6 of Clubs\n",
      "7 of Clubs\n",
      "8 of Clubs\n",
      "9 of Clubs\n",
      "10 of Clubs\n",
      "Jack of Clubs\n",
      "Queen of Clubs\n",
      "King of Clubs\n",
      "Ace of Clubs\n",
      "2 of Hearts\n",
      "3 of Hearts\n",
      "4 of Hearts\n",
      "5 of Hearts\n",
      "6 of Hearts\n",
      "7 of Hearts\n",
      "8 of Hearts\n",
      "9 of Hearts\n",
      "10 of Hearts\n",
      "Jack of Hearts\n",
      "Queen of Hearts\n",
      "King of Hearts\n",
      "Ace of Hearts\n",
      "2 of Diamonds\n",
      "3 of Diamonds\n",
      "4 of Diamonds\n",
      "5 of Diamonds\n",
      "6 of Diamonds\n",
      "7 of Diamonds\n",
      "8 of Diamonds\n",
      "9 of Diamonds\n",
      "10 of Diamonds\n",
      "Jack of Diamonds\n",
      "Queen of Diamonds\n",
      "King of Diamonds\n",
      "Ace of Diamonds\n"
     ]
    }
   ],
   "source": [
    "# Builds a full deck\n",
    "\n",
    "deck = build_deck()\n",
    "print_hand(deck)"
   ]
  },
  {
   "cell_type": "code",
   "execution_count": 7,
   "metadata": {},
   "outputs": [],
   "source": [
    "# Evaluates the hand value of a standard 5 card hand\n",
    "\n",
    "# Returns two integers (a, b) where a is the ranking representing each of\n",
    "# the 10 possible outcomes,\n",
    "# b is the value of the tie-breaking card (if there is one)\n",
    "\n",
    "def hand_value(hand):\n",
    "    if royal_flush(hand)[0]:     return 10, royal_flush(hand)[1]\n",
    "    if straight_flush(hand)[0]:  return 9, straight_flush(hand)[1]\n",
    "    if four_of_a_kind(hand)[0]:  return 8, four_of_a_kind(hand)[1]\n",
    "    if full_house(hand)[0]:      return 7, full_house(hand)[1]\n",
    "    if flush(hand)[0]:           return 6, flush(hand)[1]\n",
    "    if straight(hand)[0]:        return 5, straight(hand)[1]\n",
    "    if three_of_a_kind(hand)[0]: return 4, three_of_a_kind(hand)[1]\n",
    "    if two_pair(hand)[0]:        return 3, two_pair(hand)[1]\n",
    "    if pair(hand)[0]:            return 2, pair(hand)[1]\n",
    "    return 1, high_card(hand)"
   ]
  },
  {
   "cell_type": "code",
   "execution_count": 8,
   "metadata": {},
   "outputs": [],
   "source": [
    "# Prints the result of the output from hand_value(hand) in an interpretable format\n",
    "\n",
    "def print_result(a, b):\n",
    "    print(\"-------> \" + results[int(a-1)] + \" with \" + values[int(b-2)])"
   ]
  },
  {
   "cell_type": "code",
   "execution_count": 9,
   "metadata": {},
   "outputs": [],
   "source": [
    "# Returns the highest card value in hand\n",
    "\n",
    "def high_card(hand):\n",
    "    return np.amax(hand[:,0])"
   ]
  },
  {
   "cell_type": "code",
   "execution_count": 10,
   "metadata": {},
   "outputs": [],
   "source": [
    "# Evaluates if hand contains a royal flush\n",
    "# Returns 1 if true, 0 if false\n",
    "\n",
    "def royal_flush(hand):\n",
    "    if straight_flush(hand) == (1, 14):\n",
    "        return straight_flush(hand)\n",
    "    return 0, 0"
   ]
  },
  {
   "cell_type": "code",
   "execution_count": 11,
   "metadata": {},
   "outputs": [],
   "source": [
    "# Evaluates if hand contains a straight flush\n",
    "# Returns 1 if true, 0 if false\n",
    "\n",
    "def straight_flush(hand):\n",
    "    if flush(hand)[0] and straight(hand)[0]:\n",
    "        return straight(hand)\n",
    "    return 0, 0"
   ]
  },
  {
   "cell_type": "code",
   "execution_count": 12,
   "metadata": {},
   "outputs": [],
   "source": [
    "# Evaluates if hand contains a four of a kind\n",
    "# Returns two values (a, b) where a=1 if true, a=0 if false,\n",
    "# b is the value of the tie-breaking card\n",
    "\n",
    "def four_of_a_kind(hand):\n",
    "    uniques = np.unique(hand[:,0])\n",
    "    if hand[hand[:,0]==uniques[0]].shape[0]==4:\n",
    "        return 1, uniques[0]\n",
    "    if hand[hand[:,0]==uniques[1]].shape[0]==4:\n",
    "        return 1, uniques[1]\n",
    "    return 0, 0"
   ]
  },
  {
   "cell_type": "code",
   "execution_count": 13,
   "metadata": {},
   "outputs": [],
   "source": [
    "# Evaluates if hand contains a full house\n",
    "# Returns two values (a, b) where a=1 if true, a=0 if false,\n",
    "# b is the value of the tie-breaking card\n",
    "\n",
    "def full_house(hand):\n",
    "    uniques = np.unique(hand[:,0])\n",
    "    if hand[hand[:,0]==uniques[0]].shape[0]==3\\\n",
    "    and hand[hand[:,0]==uniques[1]].shape[0]==2:\n",
    "        return 1, uniques[0]\n",
    "    if hand[hand[:,0]==uniques[0]].shape[0]==2\\\n",
    "    and hand[hand[:,0]==uniques[1]].shape[0]==3:\n",
    "        return 1, uniques[1]\n",
    "    return 0, 0"
   ]
  },
  {
   "cell_type": "code",
   "execution_count": 14,
   "metadata": {},
   "outputs": [],
   "source": [
    "# Evaluates if hand contains a flush\n",
    "# Returns two values (a, b) where a=1 if true, a=0 if false,\n",
    "# b is the value of the tie-breaking card\n",
    "\n",
    "def flush(hand):\n",
    "    if hand[0,1] == hand[1,1] == hand[2,1] == hand[3,1] == hand[4,1]:\n",
    "        return 1, high_card(hand)\n",
    "    return 0, 0"
   ]
  },
  {
   "cell_type": "code",
   "execution_count": 15,
   "metadata": {},
   "outputs": [],
   "source": [
    "# Evaluates if hand contains a straight\n",
    "# Returns two values (a, b) where a=1 if true, a=0 if false,\n",
    "# b is the value of the tie-breaking card\n",
    "\n",
    "def straight(hand):\n",
    "    if high_card(hand)==14: # Ace is treated as both a high and low card\n",
    "        sorted_acehigh = np.sort(hand[:,0], axis=0)\n",
    "        acelow = hand.copy()\n",
    "        acelow[np.where(acelow == 14)] = 1\n",
    "        sorted_acelow = np.sort(acelow[:,0], axis=0)\n",
    "        if np.all(np.diff(sorted_acehigh) == 1):\n",
    "            return 1, 14\n",
    "        if np.all(np.diff(sorted_acelow) == 1):\n",
    "            return 1, 5\n",
    "    sorted_values = np.sort(hand[:,0], axis=0)\n",
    "    if np.all(np.diff(sorted_values) == 1):\n",
    "        return 1, high_card(hand)\n",
    "    return 0, 0"
   ]
  },
  {
   "cell_type": "code",
   "execution_count": 16,
   "metadata": {},
   "outputs": [],
   "source": [
    "# Evaluates if hand contains a three of a kind\n",
    "# Returns two values (a, b) where a=1 if true, a=0 if false,\n",
    "# b is the value of the tie-breaking card\n",
    "\n",
    "def three_of_a_kind(hand):\n",
    "    uniques = np.unique(hand[:,0])\n",
    "    if hand[hand[:,0]==uniques[0]].shape[0]==3:\n",
    "        return 1, uniques[0]\n",
    "    if hand[hand[:,0]==uniques[1]].shape[0]==3:\n",
    "        return 1, uniques[1]\n",
    "    if hand[hand[:,0]==uniques[2]].shape[0]==3:\n",
    "        return 1, uniques[2]\n",
    "    return 0, 0"
   ]
  },
  {
   "cell_type": "code",
   "execution_count": 17,
   "metadata": {},
   "outputs": [],
   "source": [
    "# Evaluates if hand contains a two pair\n",
    "# Returns two values (a, b) where a=1 if true, a=0 if false,\n",
    "# b is the value of the tie-breaking card\n",
    "\n",
    "def two_pair(hand):\n",
    "    pair1 = 0\n",
    "    pair2 = 0\n",
    "    pair3 = 0\n",
    "    uniques = np.unique(hand[:,0])\n",
    "    if uniques.shape[0]==3:\n",
    "        if hand[hand[:,0]==uniques[0]].shape[0]==2:\n",
    "            pair1 = uniques[0]\n",
    "        if hand[hand[:,0]==uniques[1]].shape[0]==2:\n",
    "            pair2 = uniques[1]        \n",
    "        if hand[hand[:,0]==uniques[2]].shape[0]==2:\n",
    "            pair3 = uniques[2]\n",
    "        return 1, np.amax([pair1, pair2, pair3])\n",
    "    return 0, 0"
   ]
  },
  {
   "cell_type": "code",
   "execution_count": 18,
   "metadata": {},
   "outputs": [],
   "source": [
    "# Evaluates if hand contains a pair\n",
    "# Returns two values (a, b) where a=1 if true, a=0 if false,\n",
    "# b is the value of the tie-breaking card\n",
    "\n",
    "def pair(hand):\n",
    "    uniques = np.unique(hand[:,0])\n",
    "    if uniques.shape[0]==4:\n",
    "        if hand[hand[:,0]==uniques[0]].shape[0]==2:\n",
    "            return 1, uniques[0]\n",
    "        if hand[hand[:,0]==uniques[1]].shape[0]==2:\n",
    "            return 1, uniques[1]        \n",
    "        if hand[hand[:,0]==uniques[2]].shape[0]==2:\n",
    "            return 1, uniques[2]\n",
    "        if hand[hand[:,0]==uniques[3]].shape[0]==2:\n",
    "            return 1, uniques[3]\n",
    "    return 0, 0"
   ]
  },
  {
   "cell_type": "code",
   "execution_count": 19,
   "metadata": {},
   "outputs": [
    {
     "name": "stdout",
     "output_type": "stream",
     "text": [
      "6 of Clubs\n",
      "3 of Clubs\n",
      "4 of Clubs\n",
      "5 of Clubs\n",
      "2 of Clubs\n",
      "-------> Straight Flush with 6\n"
     ]
    }
   ],
   "source": [
    "# Example of the code running with cards, manually inputted\n",
    "\n",
    "deck = build_deck()\n",
    "hand = np.empty(10).reshape(5,2)\n",
    "hand[0,:] = deck[17,:]\n",
    "hand[1,:] = deck[14,:]\n",
    "hand[2,:] = deck[15,:]\n",
    "hand[3,:] = deck[16,:]\n",
    "hand[4,:] = deck[13,:]\n",
    "\n",
    "print_hand(hand)\n",
    "\n",
    "a, b = hand_value(hand)\n",
    "print_result(a, b)"
   ]
  },
  {
   "cell_type": "code",
   "execution_count": 20,
   "metadata": {},
   "outputs": [],
   "source": [
    "# Generates a permutation of random cards in a 52 card deck,\n",
    "# where n = number of cards generated\n",
    "\n",
    "def random_cards(n=10):\n",
    "    deck = build_deck()\n",
    "    return np.random.permutation(deck)[:n,:]"
   ]
  },
  {
   "cell_type": "code",
   "execution_count": 21,
   "metadata": {
    "scrolled": true
   },
   "outputs": [
    {
     "name": "stdout",
     "output_type": "stream",
     "text": [
      "Jack of Hearts\n",
      "Ace of Hearts\n",
      "Queen of Clubs\n",
      "Jack of Clubs\n",
      "5 of Hearts\n",
      "-------> Pair with Jack\n"
     ]
    }
   ],
   "source": [
    "# Test random hand generator\n",
    "\n",
    "x = random_cards(n=5)\n",
    "print_hand(x)\n",
    "a, b = hand_value(x)\n",
    "print_result(a, b)"
   ]
  },
  {
   "cell_type": "code",
   "execution_count": 22,
   "metadata": {},
   "outputs": [],
   "source": [
    "# Function to simulate rounds of two random, computer-generated poker players\n",
    "\n",
    "# 5 random cards are given to player 1 (as hand1), and 5 random cards from\n",
    "# that same deck are given to player 2 (as hand2). The players compare hands\n",
    "# and the winner of the round is recorded. Then a new shuffled set of 10 cards\n",
    "# is generated and the simulation cycles again a number of times equal to the\n",
    "# value of hands (default = 1000000).\n",
    "# A progress message is printed for every 50,000 games simulated.\n",
    "\n",
    "# Returns data, with values (a, b, c) where a is hand value of player 1,\n",
    "# b is tie-breaking card, c is a number representing game status.\n",
    "# c = 1 if player 1 wins, c = -1 if player 1 loses,\n",
    "# c = 0 if tie (even after tie-breaking card)\n",
    "\n",
    "def simulate(hands = 1000000, display=False):\n",
    "    data = np.zeros([hands, 3])\n",
    "    for i in range(hands):\n",
    "        if i%50000==0:\n",
    "            print(\"Games simulated: \"+str(i))\n",
    "        cards = random_cards()\n",
    "        hand1 = cards[:5,:]\n",
    "        hand2 = cards[5:,:]\n",
    "        a1, b1 = hand_value(hand1)\n",
    "        a2, b2 = hand_value(hand2)\n",
    "        if a1 > a2:\n",
    "            data[i,:] = [a1, b1, 1]\n",
    "        elif a1 == a2:\n",
    "            if b1 > b2:\n",
    "                data[i,:] = [a1, b1, 1]\n",
    "            elif b1 == b2:\n",
    "                data[i,:] = [a1, b1, 0]\n",
    "            else:\n",
    "                data[i,:] = [a1, b1, -1]\n",
    "        else:\n",
    "            data[i,:] = [a1, b1, -1]\n",
    "        if display:\n",
    "            print(\"Game \"+str(i+1)+\":\\nHand 1:\")\n",
    "            print_hand(hand1)\n",
    "            print_result(a1, b1)\n",
    "            print(\"\\nHand 2:\")\n",
    "            print_hand(hand2)\n",
    "            print_result(a2, b2)            \n",
    "            print(\"\\nStatus: \"+str(int(data[i,2])))\n",
    "            print(\"----------------------------------\")\n",
    "    print(\"Games simulated: \"+str(hands)+\" ---> Done!\")\n",
    "    return data"
   ]
  },
  {
   "cell_type": "code",
   "execution_count": 23,
   "metadata": {},
   "outputs": [
    {
     "name": "stdout",
     "output_type": "stream",
     "text": [
      "Games simulated: 0\n",
      "Game 1:\n",
      "Hand 1:\n",
      "9 of Spades\n",
      "Ace of Clubs\n",
      "3 of Hearts\n",
      "Queen of Clubs\n",
      "King of Hearts\n",
      "-------> High Card with Ace\n",
      "\n",
      "Hand 2:\n",
      "Jack of Spades\n",
      "6 of Hearts\n",
      "8 of Spades\n",
      "5 of Diamonds\n",
      "6 of Spades\n",
      "-------> Pair with 6\n",
      "\n",
      "Status: -1\n",
      "----------------------------------\n",
      "Game 2:\n",
      "Hand 1:\n",
      "Jack of Diamonds\n",
      "7 of Diamonds\n",
      "2 of Clubs\n",
      "2 of Spades\n",
      "3 of Clubs\n",
      "-------> Pair with 2\n",
      "\n",
      "Hand 2:\n",
      "8 of Hearts\n",
      "3 of Spades\n",
      "4 of Hearts\n",
      "5 of Hearts\n",
      "4 of Diamonds\n",
      "-------> Pair with 4\n",
      "\n",
      "Status: -1\n",
      "----------------------------------\n",
      "Games simulated: 2 ---> Done!\n"
     ]
    }
   ],
   "source": [
    "# Example of small (2 game) simulation where display is enabled\n",
    "\n",
    "x = simulate(hands = 2, display=True)"
   ]
  },
  {
   "cell_type": "code",
   "execution_count": 24,
   "metadata": {},
   "outputs": [
    {
     "name": "stdout",
     "output_type": "stream",
     "text": [
      "Games simulated: 0\n",
      "Games simulated: 50000\n",
      "Games simulated: 100000\n",
      "Games simulated: 150000\n",
      "Games simulated: 200000\n",
      "Games simulated: 250000\n",
      "Games simulated: 300000\n",
      "Games simulated: 350000\n",
      "Games simulated: 400000\n",
      "Games simulated: 450000\n",
      "Games simulated: 500000\n",
      "Games simulated: 550000\n",
      "Games simulated: 600000\n",
      "Games simulated: 650000\n",
      "Games simulated: 700000\n",
      "Games simulated: 750000\n",
      "Games simulated: 800000\n",
      "Games simulated: 850000\n",
      "Games simulated: 900000\n",
      "Games simulated: 950000\n",
      "Games simulated: 1000000 ---> Done!\n",
      "Time elapsed: 344.76 seconds\n"
     ]
    }
   ],
   "source": [
    "# Simulation with 1,000,000 games (building a larger dataset for analysis)\n",
    "\n",
    "start = time.time() # Track time to completion\n",
    "x = simulate()\n",
    "end = time.time()\n",
    "print(\"Time elapsed: \" + str(round(end - start, 2)) + \" seconds\")"
   ]
  },
  {
   "cell_type": "code",
   "execution_count": 25,
   "metadata": {},
   "outputs": [
    {
     "data": {
      "text/html": [
       "<div>\n",
       "<style scoped>\n",
       "    .dataframe tbody tr th:only-of-type {\n",
       "        vertical-align: middle;\n",
       "    }\n",
       "\n",
       "    .dataframe tbody tr th {\n",
       "        vertical-align: top;\n",
       "    }\n",
       "\n",
       "    .dataframe thead th {\n",
       "        text-align: right;\n",
       "    }\n",
       "</style>\n",
       "<table border=\"1\" class=\"dataframe\">\n",
       "  <thead>\n",
       "    <tr style=\"text-align: right;\">\n",
       "      <th></th>\n",
       "      <th>Result</th>\n",
       "      <th>Hand Count</th>\n",
       "      <th>Percentage</th>\n",
       "      <th>True Probability</th>\n",
       "    </tr>\n",
       "  </thead>\n",
       "  <tbody>\n",
       "    <tr>\n",
       "      <th>0</th>\n",
       "      <td>High Card</td>\n",
       "      <td>500563</td>\n",
       "      <td>50.0563</td>\n",
       "      <td>50.1177</td>\n",
       "    </tr>\n",
       "    <tr>\n",
       "      <th>1</th>\n",
       "      <td>Pair</td>\n",
       "      <td>422762</td>\n",
       "      <td>42.2762</td>\n",
       "      <td>42.2569</td>\n",
       "    </tr>\n",
       "    <tr>\n",
       "      <th>2</th>\n",
       "      <td>Two Pair</td>\n",
       "      <td>47658</td>\n",
       "      <td>4.7658</td>\n",
       "      <td>4.7539</td>\n",
       "    </tr>\n",
       "    <tr>\n",
       "      <th>3</th>\n",
       "      <td>Three of a Kind</td>\n",
       "      <td>21358</td>\n",
       "      <td>2.1358</td>\n",
       "      <td>2.1128</td>\n",
       "    </tr>\n",
       "    <tr>\n",
       "      <th>4</th>\n",
       "      <td>Straight</td>\n",
       "      <td>3928</td>\n",
       "      <td>0.3928</td>\n",
       "      <td>0.3925</td>\n",
       "    </tr>\n",
       "    <tr>\n",
       "      <th>5</th>\n",
       "      <td>Flush</td>\n",
       "      <td>1965</td>\n",
       "      <td>0.1965</td>\n",
       "      <td>0.1965</td>\n",
       "    </tr>\n",
       "    <tr>\n",
       "      <th>6</th>\n",
       "      <td>Full House</td>\n",
       "      <td>1490</td>\n",
       "      <td>0.149</td>\n",
       "      <td>0.1441</td>\n",
       "    </tr>\n",
       "    <tr>\n",
       "      <th>7</th>\n",
       "      <td>Four of a Kind</td>\n",
       "      <td>267</td>\n",
       "      <td>0.0267</td>\n",
       "      <td>0.024</td>\n",
       "    </tr>\n",
       "    <tr>\n",
       "      <th>8</th>\n",
       "      <td>Straight Flush</td>\n",
       "      <td>8</td>\n",
       "      <td>0.0008</td>\n",
       "      <td>0.00139</td>\n",
       "    </tr>\n",
       "    <tr>\n",
       "      <th>9</th>\n",
       "      <td>Royal Flush</td>\n",
       "      <td>1</td>\n",
       "      <td>0.0001</td>\n",
       "      <td>0.000154</td>\n",
       "    </tr>\n",
       "  </tbody>\n",
       "</table>\n",
       "</div>"
      ],
      "text/plain": [
       "            Result Hand Count Percentage True Probability\n",
       "0        High Card     500563    50.0563          50.1177\n",
       "1             Pair     422762    42.2762          42.2569\n",
       "2         Two Pair      47658     4.7658           4.7539\n",
       "3  Three of a Kind      21358     2.1358           2.1128\n",
       "4         Straight       3928     0.3928           0.3925\n",
       "5            Flush       1965     0.1965           0.1965\n",
       "6       Full House       1490      0.149           0.1441\n",
       "7   Four of a Kind        267     0.0267            0.024\n",
       "8   Straight Flush          8     0.0008          0.00139\n",
       "9      Royal Flush          1     0.0001         0.000154"
      ]
     },
     "execution_count": 25,
     "metadata": {},
     "output_type": "execute_result"
    }
   ],
   "source": [
    "# Distribution of hand values for player 1\n",
    "\n",
    "count = np.zeros(10)\n",
    "for i in range(10):\n",
    "    count[i] = x[x[:,0]==i+1].shape[0]\n",
    "\n",
    "df1 = pd.DataFrame([results, count.astype(int), count/x.shape[0]*100, results_prob],\\\n",
    "                   index = ['Result', 'Hand Count', 'Percentage', 'True Probability']\\\n",
    "                  ).transpose()\n",
    "df1"
   ]
  },
  {
   "cell_type": "code",
   "execution_count": 26,
   "metadata": {},
   "outputs": [
    {
     "name": "stdout",
     "output_type": "stream",
     "text": [
      "Win Rate:  47.0984%\n",
      "Tie Rate:   5.8867%\n",
      "Loss Rate: 47.0149%\n"
     ]
    }
   ],
   "source": [
    "print('Win Rate:  ' + str(100*x[x[:,2]==1].shape[0]/x.shape[0]) + '%')\n",
    "print('Tie Rate:   ' + str(100*x[x[:,2]==0].shape[0]/x.shape[0]) + '%')\n",
    "print('Loss Rate: ' + str(100*x[x[:,2]==-1].shape[0]/x.shape[0]) + '%')"
   ]
  },
  {
   "cell_type": "code",
   "execution_count": 27,
   "metadata": {},
   "outputs": [],
   "source": [
    "# Export simulation data to CSV file as a pandas dataframe\n",
    "\n",
    "df = pd.DataFrame(x)\n",
    "df.to_csv(\"poker_data.csv\", sep=',')"
   ]
  },
  {
   "cell_type": "code",
   "execution_count": null,
   "metadata": {},
   "outputs": [],
   "source": []
  }
 ],
 "metadata": {
  "kernelspec": {
   "display_name": "Python 3",
   "language": "python",
   "name": "python3"
  },
  "language_info": {
   "codemirror_mode": {
    "name": "ipython",
    "version": 3
   },
   "file_extension": ".py",
   "mimetype": "text/x-python",
   "name": "python",
   "nbconvert_exporter": "python",
   "pygments_lexer": "ipython3",
   "version": "3.6.7"
  }
 },
 "nbformat": 4,
 "nbformat_minor": 2
}
